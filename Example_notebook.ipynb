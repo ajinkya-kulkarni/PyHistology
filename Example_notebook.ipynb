{
 "cells": [
  {
   "cell_type": "code",
   "execution_count": 1,
   "id": "c695d313",
   "metadata": {},
   "outputs": [],
   "source": [
    "import streamlit as st\n",
    "\n",
    "import numpy as np\n",
    "import cv2\n",
    "\n",
    "from PIL import Image\n",
    "from PIL import ImageColor\n",
    "from skimage.color import rgb2gray\n",
    "\n",
    "import matplotlib.pyplot as plt\n",
    "plt.rcParams.update({'font.size': 12})\n",
    "%config InlineBackend.figure_format='retina'\n",
    "\n",
    "import os\n",
    "import time\n",
    "from io import BytesIO\n",
    "\n",
    "import sys\n",
    "\n",
    "# Don't generate the __pycache__ folder locally\n",
    "sys.dont_write_bytecode = True \n",
    "\n",
    "# Print exception without the buit-in python warning\n",
    "sys.tracebacklimit = 0"
   ]
  },
  {
   "cell_type": "code",
   "execution_count": 2,
   "id": "e4f27d3b",
   "metadata": {},
   "outputs": [
    {
     "data": {
      "text/plain": [
       "array([80, 20, 10])"
      ]
     },
     "execution_count": 2,
     "metadata": {},
     "output_type": "execute_result"
    }
   ],
   "source": [
    "LowerColorHSV = np.array([80, 20, 10])\n",
    "\n",
    "LowerColorHSV"
   ]
  },
  {
   "cell_type": "code",
   "execution_count": 3,
   "id": "3aa3d00c",
   "metadata": {},
   "outputs": [
    {
     "data": {
      "text/plain": [
       "array([120, 255, 255])"
      ]
     },
     "execution_count": 3,
     "metadata": {},
     "output_type": "execute_result"
    }
   ],
   "source": [
    "HigherColorHSV = np.array([120, 255, 255])\n",
    "\n",
    "HigherColorHSV"
   ]
  },
  {
   "cell_type": "code",
   "execution_count": 4,
   "id": "c3af172a",
   "metadata": {},
   "outputs": [],
   "source": [
    "raw_image_from_pillow = Image.open('TestImage.png')"
   ]
  },
  {
   "cell_type": "code",
   "execution_count": 5,
   "id": "17ba25e4",
   "metadata": {},
   "outputs": [],
   "source": [
    "raw_image = np.array(raw_image_from_pillow)"
   ]
  },
  {
   "cell_type": "code",
   "execution_count": 6,
   "id": "1b6e3d1f",
   "metadata": {},
   "outputs": [],
   "source": [
    "HSV_image = cv2.cvtColor(raw_image, cv2.COLOR_RGB2HSV)"
   ]
  },
  {
   "cell_type": "code",
   "execution_count": 7,
   "id": "1710e68d",
   "metadata": {},
   "outputs": [],
   "source": [
    "mask = cv2.inRange(HSV_image, \n",
    "                   LowerColorHSV, \n",
    "                   HigherColorHSV)\n",
    "\n",
    "blue_pixels = np.count_nonzero(mask)\n",
    "\n",
    "########################\n",
    "\n",
    "output_HSV_image = cv2.bitwise_and(HSV_image, \n",
    "                                   HSV_image, \n",
    "                                   mask = mask)\n",
    "\n",
    "output_RGB_image = cv2.cvtColor(output_HSV_image, \n",
    "                                cv2.COLOR_HSV2RGB)"
   ]
  },
  {
   "cell_type": "code",
   "execution_count": 8,
   "id": "0ec73b3e",
   "metadata": {},
   "outputs": [],
   "source": [
    "image_gray = 255 * rgb2gray(raw_image)\n",
    "\n",
    "whiteness_threshold = 200\n",
    "\n",
    "non_white_pixels = np.count_nonzero(image_gray < whiteness_threshold)"
   ]
  },
  {
   "cell_type": "code",
   "execution_count": null,
   "id": "8e6230d1",
   "metadata": {},
   "outputs": [],
   "source": [
    "isolated_RGB_image = output_RGB_image.copy()\n",
    "\n",
    "isolated_RGB_image = np.where(np.all(isolated_RGB_image == [0, 0, 0], \n",
    "                                     axis = -1, keepdims = True), \n",
    "                              [255, 255, 255], \n",
    "                              isolated_RGB_image)"
   ]
  },
  {
   "cell_type": "code",
   "execution_count": null,
   "id": "d3377682",
   "metadata": {},
   "outputs": [],
   "source": [
    "percentage_area = np.round((100 * blue_pixels / non_white_pixels), 2)"
   ]
  },
  {
   "cell_type": "code",
   "execution_count": null,
   "id": "03c93d01",
   "metadata": {},
   "outputs": [],
   "source": [
    "mosaic = \"AB\"\n",
    "fig = plt.figure(constrained_layout = True)\n",
    "\n",
    "ax = fig.subplot_mosaic(mosaic)\n",
    "\n",
    "ax['A'].imshow(raw_image)\n",
    "ax['A'].set_title('Uploaded Image')\n",
    "ax['A'].set_xticks([])\n",
    "ax['A'].set_yticks([])\n",
    "\n",
    "#####\n",
    "\n",
    "ax['B'].imshow(isolated_RGB_image)\n",
    "ax['B'].set_title('Isolated pixels, ' + str(percentage_area) + '%')\n",
    "ax['B'].set_xticks([])\n",
    "ax['B'].set_yticks([])\n",
    "\n",
    "plt.show()"
   ]
  },
  {
   "cell_type": "code",
   "execution_count": null,
   "id": "52e20cc3",
   "metadata": {},
   "outputs": [],
   "source": []
  }
 ],
 "metadata": {
  "kernelspec": {
   "display_name": "Python 3 (ipykernel)",
   "language": "python",
   "name": "python3"
  },
  "language_info": {
   "codemirror_mode": {
    "name": "ipython",
    "version": 3
   },
   "file_extension": ".py",
   "mimetype": "text/x-python",
   "name": "python",
   "nbconvert_exporter": "python",
   "pygments_lexer": "ipython3",
   "version": "3.9.13"
  }
 },
 "nbformat": 4,
 "nbformat_minor": 5
}
